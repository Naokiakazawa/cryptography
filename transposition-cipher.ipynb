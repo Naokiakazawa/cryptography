{
 "cells": [
  {
   "cell_type": "code",
   "execution_count": null,
   "metadata": {},
   "outputs": [],
   "source": [
    "import numpy as np"
   ]
  },
  {
   "cell_type": "code",
   "execution_count": null,
   "metadata": {},
   "outputs": [],
   "source": [
    "# Key Generation\n",
    "def KeyGen():\n",
    "    key = [3, 2, 4, 1]\n",
    "    return key\n",
    "\n",
    "k = KeyGen()"
   ]
  },
  {
   "cell_type": "code",
   "execution_count": null,
   "metadata": {},
   "outputs": [],
   "source": [
    "#Encryptation\n",
    "def Enc(plaintext, key):\n",
    "    result = \"\"\n",
    "\n",
    "    for i in range(0,len(plaintext),4):\n",
    "        block = plaintext[i:i+4]\n",
    "        if(len(block)%4 == 0):\n",
    "            for s in key:\n",
    "                result += block[s-1]\n",
    "        else:\n",
    "            result += block\n",
    "\n",
    "    return result"
   ]
  },
  {
   "cell_type": "code",
   "execution_count": 201,
   "metadata": {},
   "outputs": [
    {
     "data": {
      "text/plain": [
       "'lelhowrold'"
      ]
     },
     "execution_count": 201,
     "metadata": {},
     "output_type": "execute_result"
    }
   ],
   "source": [
    "Enc(\"helloworld\", k)"
   ]
  },
  {
   "cell_type": "code",
   "execution_count": null,
   "metadata": {},
   "outputs": [],
   "source": [
    "#Decryptation\n",
    "def Dec(encryptedtext, key):\n",
    "    result = \"\"\n",
    "    \n",
    "    t_key = np.array([key, [i+1 for i in range(len(key))]]).T\n",
    "    t_key_sorted = t_key[np.argsort(t_key[:, 0])]\n",
    "    enc_key = t_key_sorted.T[1]\n",
    "\n",
    "    for i in range(0,len(encryptedtext),4):\n",
    "        block = encryptedtext[i:i+4]\n",
    "        if(len(block)%4 == 0):\n",
    "            for s in enc_key:\n",
    "                result += block[s-1]\n",
    "        else:\n",
    "            result += block\n",
    "\n",
    "    return result"
   ]
  },
  {
   "cell_type": "code",
   "execution_count": 202,
   "metadata": {},
   "outputs": [
    {
     "data": {
      "text/plain": [
       "'helloworld'"
      ]
     },
     "execution_count": 202,
     "metadata": {},
     "output_type": "execute_result"
    }
   ],
   "source": [
    "Dec('lelhowrold', k)"
   ]
  },
  {
   "cell_type": "code",
   "execution_count": null,
   "metadata": {},
   "outputs": [],
   "source": []
  }
 ],
 "metadata": {
  "kernelspec": {
   "display_name": "Python 3",
   "language": "python",
   "name": "python3"
  },
  "language_info": {
   "codemirror_mode": {
    "name": "ipython",
    "version": 3
   },
   "file_extension": ".py",
   "mimetype": "text/x-python",
   "name": "python",
   "nbconvert_exporter": "python",
   "pygments_lexer": "ipython3",
   "version": "3.6.9"
  }
 },
 "nbformat": 4,
 "nbformat_minor": 4
}
