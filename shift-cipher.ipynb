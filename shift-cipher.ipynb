{
 "cells": [
  {
   "cell_type": "code",
   "execution_count": 2,
   "metadata": {},
   "outputs": [],
   "source": [
    "def enc(plaintext, rot):\n",
    "    if(rot > 25):\n",
    "        rot = rot % 26\n",
    "    result = \"\"\n",
    "    for i in range(len(plaintext)):\n",
    "        cha = plaintext[i]\n",
    "        if(cha.isupper()):\n",
    "            result += chr((ord(cha) + rot - 65) % 26 + 65)\n",
    "        else:\n",
    "            result += chr((ord(cha) + rot - 97) % 26 + 97)\n",
    "    return print(result)"
   ]
  },
  {
   "cell_type": "code",
   "execution_count": 3,
   "metadata": {},
   "outputs": [
    {
     "name": "stdout",
     "output_type": "stream",
     "text": [
      "Fdhvdu\n"
     ]
    }
   ],
   "source": [
    "enc(\"Caesar\", 29)"
   ]
  },
  {
   "cell_type": "code",
   "execution_count": 4,
   "metadata": {},
   "outputs": [],
   "source": [
    "def dec(encryptedtext, rot):\n",
    "    if(rot > 25):\n",
    "        rot = rot % 26\n",
    "    result = \"\"\n",
    "    for i in range(len(encryptedtext)):\n",
    "        cha = encryptedtext[i]\n",
    "        if(cha.isupper()):\n",
    "            result += chr((ord(cha) - rot + 26 - 65) % 26 + 65)\n",
    "        else:\n",
    "            result += chr((ord(cha) - rot + 26 - 97) % 26 + 97)\n",
    "    return print(result)"
   ]
  },
  {
   "cell_type": "code",
   "execution_count": 5,
   "metadata": {},
   "outputs": [
    {
     "name": "stdout",
     "output_type": "stream",
     "text": [
      "Caesar\n"
     ]
    }
   ],
   "source": [
    "dec(\"Fdhvdu\", 3)"
   ]
  },
  {
   "cell_type": "code",
   "execution_count": null,
   "metadata": {},
   "outputs": [],
   "source": []
  },
  {
   "cell_type": "code",
   "execution_count": 7,
   "metadata": {},
   "outputs": [
    {
     "name": "stdout",
     "output_type": "stream",
     "text": [
      "Fdhvdu\n",
      "Ecguct\n",
      "Dbftbs\n",
      "Caesar\n",
      "Bzdrzq\n",
      "Aycqyp\n",
      "Zxbpxo\n",
      "Ywaown\n",
      "Xvznvm\n",
      "Wuymul\n",
      "Vtxltk\n",
      "Uswksj\n",
      "Trvjri\n",
      "Squiqh\n",
      "Rpthpg\n",
      "Qosgof\n",
      "Pnrfne\n",
      "Omqemd\n",
      "Nlpdlc\n",
      "Mkockb\n",
      "Ljnbja\n",
      "Kimaiz\n",
      "Jhlzhy\n",
      "Igkygx\n",
      "Hfjxfw\n"
     ]
    }
   ],
   "source": [
    "#Brute force\n",
    "for c in range(25):\n",
    "    dec(\"Fdhvdu\", c)"
   ]
  },
  {
   "cell_type": "code",
   "execution_count": null,
   "metadata": {},
   "outputs": [],
   "source": []
  }
 ],
 "metadata": {
  "kernelspec": {
   "display_name": "Python 3",
   "language": "python",
   "name": "python3"
  },
  "language_info": {
   "codemirror_mode": {
    "name": "ipython",
    "version": 3
   },
   "file_extension": ".py",
   "mimetype": "text/x-python",
   "name": "python",
   "nbconvert_exporter": "python",
   "pygments_lexer": "ipython3",
   "version": "3.6.9"
  }
 },
 "nbformat": 4,
 "nbformat_minor": 4
}
