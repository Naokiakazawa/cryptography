{
 "cells": [
  {
   "cell_type": "code",
   "execution_count": 1,
   "metadata": {},
   "outputs": [],
   "source": [
    "#Key Generation\n",
    "def KeyGen():\n",
    "    key = 4\n",
    "    return key\n",
    "\n",
    "k = KeyGen()"
   ]
  },
  {
   "cell_type": "code",
   "execution_count": 17,
   "metadata": {},
   "outputs": [],
   "source": [
    "#Encryptation\n",
    "def Enc(plaintext, key):\n",
    "    result = \"\"\n",
    "    \n",
    "    for i in range(key):\n",
    "        for s in range(i, len(plaintext), key):\n",
    "            result += plaintext[s]\n",
    "    \n",
    "    return result"
   ]
  },
  {
   "cell_type": "code",
   "execution_count": 18,
   "metadata": {},
   "outputs": [
    {
     "data": {
      "text/plain": [
       "'hoebloly'"
      ]
     },
     "execution_count": 18,
     "metadata": {},
     "output_type": "execute_result"
    }
   ],
   "source": [
    "Enc(\"helloboy\", k)"
   ]
  },
  {
   "cell_type": "code",
   "execution_count": 15,
   "metadata": {},
   "outputs": [],
   "source": [
    "#Decryptation\n",
    "def Dec(encryptedtext, key):\n",
    "    result = \"\"\n",
    "    \n",
    "    n = -(-len(encryptedtext) // key)\n",
    "    frc = len(encryptedtext) % key\n",
    "    \n",
    "    if(frc == 0):\n",
    "        for i in range(n):\n",
    "            for s in range(i, len(encryptedtext), n):\n",
    "                result += encryptedtext[s]\n",
    "\n",
    "    return result"
   ]
  },
  {
   "cell_type": "code",
   "execution_count": 19,
   "metadata": {},
   "outputs": [
    {
     "data": {
      "text/plain": [
       "'helloboy'"
      ]
     },
     "execution_count": 19,
     "metadata": {},
     "output_type": "execute_result"
    }
   ],
   "source": [
    "Dec(\"hoebloly\", k)"
   ]
  },
  {
   "cell_type": "code",
   "execution_count": null,
   "metadata": {},
   "outputs": [],
   "source": []
  }
 ],
 "metadata": {
  "kernelspec": {
   "display_name": "Python 3",
   "language": "python",
   "name": "python3"
  },
  "language_info": {
   "codemirror_mode": {
    "name": "ipython",
    "version": 3
   },
   "file_extension": ".py",
   "mimetype": "text/x-python",
   "name": "python",
   "nbconvert_exporter": "python",
   "pygments_lexer": "ipython3",
   "version": "3.6.9"
  }
 },
 "nbformat": 4,
 "nbformat_minor": 4
}
