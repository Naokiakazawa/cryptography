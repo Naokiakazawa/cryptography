{
 "cells": [
  {
   "cell_type": "code",
   "execution_count": 19,
   "metadata": {},
   "outputs": [],
   "source": [
    "def enc(text):\n",
    "    result = \"\"\n",
    "    for i in range(len(text)):\n",
    "        cha = text[i]\n",
    "        if(cha.isupper()):\n",
    "            result += chr((ord(cha) + 3 - 65) % 26 + 65)\n",
    "        else:\n",
    "            result += chr((ord(cha) + 3 - 97) % 26 + 97)\n",
    "    return print(result)"
   ]
  },
  {
   "cell_type": "code",
   "execution_count": 23,
   "metadata": {},
   "outputs": [
    {
     "name": "stdout",
     "output_type": "stream",
     "text": [
      "Fdhvdu\n"
     ]
    }
   ],
   "source": [
    "enc(\"Caesar\")"
   ]
  },
  {
   "cell_type": "code",
   "execution_count": 24,
   "metadata": {},
   "outputs": [],
   "source": [
    "def dec(text):\n",
    "    result = \"\"\n",
    "    for i in range(len(text)):\n",
    "        cha = text[i]\n",
    "        if(cha.isupper()):\n",
    "            result += chr((ord(cha) - 3 + 26 - 65) % 26 + 65)\n",
    "        else:\n",
    "            result += chr((ord(cha) - 3 + 26 - 97) % 26 + 97)\n",
    "    return print(result)"
   ]
  },
  {
   "cell_type": "code",
   "execution_count": 25,
   "metadata": {},
   "outputs": [
    {
     "name": "stdout",
     "output_type": "stream",
     "text": [
      "Caesar\n"
     ]
    }
   ],
   "source": [
    "dec(\"Fdhvdu\")"
   ]
  },
  {
   "cell_type": "code",
   "execution_count": null,
   "metadata": {},
   "outputs": [],
   "source": []
  },
  {
   "cell_type": "code",
   "execution_count": null,
   "metadata": {},
   "outputs": [],
   "source": []
  }
 ],
 "metadata": {
  "kernelspec": {
   "display_name": "Python 3",
   "language": "python",
   "name": "python3"
  },
  "language_info": {
   "codemirror_mode": {
    "name": "ipython",
    "version": 3
   },
   "file_extension": ".py",
   "mimetype": "text/x-python",
   "name": "python",
   "nbconvert_exporter": "python",
   "pygments_lexer": "ipython3",
   "version": "3.6.9"
  }
 },
 "nbformat": 4,
 "nbformat_minor": 4
}
